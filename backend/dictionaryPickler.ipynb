{
 "cells": [
  {
   "cell_type": "code",
   "execution_count": null,
   "id": "590c1170",
   "metadata": {},
   "outputs": [],
   "source": [
    "import pickle\n",
    "saveDict = {}\n",
    "# Open CSV to create Dictionary\n",
    "with open(\n",
    "    \"\"\n",
    "    ) as file:  \n",
    "    lines = file.readlines()\n",
    "    for line in lines[1:]:  \n",
    "        lineSplit = line.split(','); parseThis = lineSplit[0]  \n",
    "        # Checks to see if the category is a good candidate to add to our dictionary\n",
    "        if 'fast_food' in parseThis or 'restaurant' in parseThis or 'food_and_drink' in parseThis:\n",
    "            key = parseThis.rfind('.')  \n",
    "            if key != -1:  # Finds and adds to a list of potential categories to search via API\n",
    "                key = parseThis[key+1:]  \n",
    "                if key in saveDict:  saveDict[key].append(parseThis) # Key already in dictionary, we add to list\n",
    "                else:   saveDict[key] = [parseThis] # Key not found in dictionary, we create a new list with API category as first element\n",
    "\n",
    "# Save constructed dictionary in given path \n",
    "with open(\n",
    "    ''\n",
    "    , 'wb') as file:\n",
    "    pickle.dump(saveDict, file)\n"
   ]
  }
 ],
 "metadata": {
  "kernelspec": {
   "display_name": "Python 3",
   "language": "python",
   "name": "python3"
  },
  "language_info": {
   "codemirror_mode": {
    "name": "ipython",
    "version": 3
   },
   "file_extension": ".py",
   "mimetype": "text/x-python",
   "name": "python",
   "nbconvert_exporter": "python",
   "pygments_lexer": "ipython3",
   "version": "3.10.17"
  }
 },
 "nbformat": 4,
 "nbformat_minor": 5
}
